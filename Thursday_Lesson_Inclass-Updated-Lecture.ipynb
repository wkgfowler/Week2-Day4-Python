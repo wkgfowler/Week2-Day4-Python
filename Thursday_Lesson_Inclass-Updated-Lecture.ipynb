{
 "cells": [
  {
   "cell_type": "markdown",
   "metadata": {},
   "source": [
    "# Object-Oriented-Programming (OOP)"
   ]
  },
  {
   "cell_type": "markdown",
   "metadata": {},
   "source": [
    "## Tasks Today:\n",
    "\n",
    "   \n",
    "\n",
    "1) <b>Creating a Class (Initializing/Declaring)</b> <br>\n",
    "2) <b>Using a Class (Instantiating)</b> <br>\n",
    " &nbsp;&nbsp;&nbsp;&nbsp; a) Creating One Instance <br>\n",
    " &nbsp;&nbsp;&nbsp;&nbsp; b) Creating Multiple Instances <br>\n",
    " &nbsp;&nbsp;&nbsp;&nbsp; c) In-Class Exercise #1 - Create a Class 'Car' and instantiate three different makes of cars <br>\n",
    "3) <b>The \\__init\\__() Method</b> <br>\n",
    " &nbsp;&nbsp;&nbsp;&nbsp; a) The 'self' Attribute <br>\n",
    "4) <b>Class Attributes</b> <br>\n",
    " &nbsp;&nbsp;&nbsp;&nbsp; a) Initializing Attributes <br>\n",
    " &nbsp;&nbsp;&nbsp;&nbsp; b) Setting an Attribute Outside of the \\__init\\__() Method <br>\n",
    " &nbsp;&nbsp;&nbsp;&nbsp; c) Setting Defaults for Attributes <br>\n",
    " &nbsp;&nbsp;&nbsp;&nbsp; d) Accessing Class Attributes <br>\n",
    " &nbsp;&nbsp;&nbsp;&nbsp; e) Changing Class Attributes <br>\n",
    " &nbsp;&nbsp;&nbsp;&nbsp; f) In-Class Exercise #2 - Add a color and wheels attribute to your 'Car' class <br>\n",
    "5) <b>Class Methods</b> <br>\n",
    " &nbsp;&nbsp;&nbsp;&nbsp; a) Creating <br>\n",
    " &nbsp;&nbsp;&nbsp;&nbsp; b) Calling <br>\n",
    " &nbsp;&nbsp;&nbsp;&nbsp; c) Modifying an Attribute's Value Through a Method <br>\n",
    " &nbsp;&nbsp;&nbsp;&nbsp; d) Incrementing an Attribute's Value Through a Method <br>\n",
    " &nbsp;&nbsp;&nbsp;&nbsp; e) In-Class Exercise #3 - Add a method that prints the cars color and wheel number, then call them <br>\n",
    "6) <b>Inheritance</b> <br>\n",
    " &nbsp;&nbsp;&nbsp;&nbsp; a) Syntax for Inheriting from a Parent Class <br>\n",
    " &nbsp;&nbsp;&nbsp;&nbsp; b) The \\__init\\__() Method for a Child Class (super()) <br>\n",
    " &nbsp;&nbsp;&nbsp;&nbsp; c) Defining Attributes and Methods for the Child Class <br>\n",
    " &nbsp;&nbsp;&nbsp;&nbsp; d) Method Overriding <br>\n",
    " &nbsp;&nbsp;&nbsp;&nbsp; e) In-Class Exercise #4 - Create a class 'Ford' that inherits from 'Car' class and initialize it as a Blue Ford Explorer with 4 wheels using the super() method <br>\n",
    "7) <b>Classes as Attributes</b> <br>\n",
    "8) <b>Exercises</b> <br>\n",
    " &nbsp;&nbsp;&nbsp;&nbsp; a) Exercise #1 - Turn the shopping cart program from yesterday into an object-oriented program <br>"
   ]
  },
  {
   "cell_type": "code",
   "execution_count": 1,
   "metadata": {},
   "outputs": [
    {
     "name": "stdout",
     "output_type": "stream",
     "text": [
      "Here is your cart...\n",
      "Thanks for using our shopping cart program!\n"
     ]
    }
   ],
   "source": [
    "# Shopping Cart Example\n",
    "\n",
    "from IPython.display import clear_output\n",
    "\n",
    "# Creating Global List\n",
    "\n",
    "cart = []\n",
    "\n",
    "#Add to Cart function\n",
    "def addItem(item):\n",
    "    clear_output()\n",
    "    cart.append(item)\n",
    "    \n",
    "# Remove from cart function\n",
    "def removeItem(item):\n",
    "    clear_output()\n",
    "    cart.remove(item)\n",
    "    \n",
    "# Show Cart Function\n",
    "def showCart():\n",
    "    clear_output()\n",
    "    print(\"Here is your cart...\")\n",
    "    for value in cart:\n",
    "        print(value)\n",
    "        \n",
    "# Clear Cart Function\n",
    "def clearCart():\n",
    "    clear_output()\n",
    "    print(\"Your Cart is Now Empty\")\n",
    "    cart.clear()\n",
    "    \n",
    "# Creating a function with a loop that continues to ask the user until said user\n",
    "# wants to quit.\n",
    "# Using ALL of the above function inside of the below \"shoppingCart\" Function\n",
    "\n",
    "def shoppingCart():\n",
    "    while True:\n",
    "        response = input(\"What do you want to do? You can: quit/ add/ remove/ show or clear. Type Only one!\")\n",
    "        \n",
    "        if response.lower() == 'quit':\n",
    "            showCart()\n",
    "            print(\"Thanks for using our shopping cart program!\")\n",
    "            break\n",
    "        elif response.lower() == 'add':\n",
    "            item = input(\"What would you like to add?\")\n",
    "            addItem(item)\n",
    "            # clear_output()\n",
    "            # cart.append(item)\n",
    "        elif response.lower() == 'remove':\n",
    "            showCart()\n",
    "            #clear_output()\n",
    "            #print(\"Here is your cart...\")\n",
    "            #for value in cart:\n",
    "                #print(value)\n",
    "            item = input(\"What item do you want to remove?\")\n",
    "            removeItem(item)\n",
    "            #clear_output()\n",
    "            #cart.remove(item)\n",
    "        elif response.lower() == 'show':\n",
    "            showCart()\n",
    "        elif response.lower() == 'clear':\n",
    "            clearCart()\n",
    "            #clear_output()\n",
    "            #print(\"Your Cart is Now Empty\")\n",
    "            #cart.clear()\n",
    "        else:\n",
    "            print(\"Sorry that was not a valid option - Please choose add/remove/show/clear or quit\")\n",
    "shoppingCart()"
   ]
  },
  {
   "cell_type": "code",
   "execution_count": 2,
   "metadata": {},
   "outputs": [
    {
     "data": {
      "text/plain": [
       "'bob'"
      ]
     },
     "execution_count": 2,
     "metadata": {},
     "output_type": "execute_result"
    }
   ],
   "source": [
    "# Circumfrance of a cirle\n",
    "name = 'Bill'\n",
    "\n",
    "if name == 'Joel' or name == 'bob':\n",
    "    print('Name Found')\n",
    "    \n",
    "    \n",
    "name == 'Joel' or 'bob'"
   ]
  },
  {
   "cell_type": "markdown",
   "metadata": {},
   "source": [
    "## Creating a Class (Initializing/Declaring)\n",
    "<p>When creating a class, function, or even a variable you are initializing that object. Initializing and Declaring occur at the same time in Python, whereas in lower level languages you have to declare an object before initializing it. This is the first step in the process of using a class.</p>"
   ]
  },
  {
   "cell_type": "code",
   "execution_count": 6,
   "metadata": {},
   "outputs": [],
   "source": [
    "class Car():\n",
    "    wheels = 4\n",
    "    color = 'blue'"
   ]
  },
  {
   "cell_type": "markdown",
   "metadata": {},
   "source": [
    "## Using a Class (Instantiating)\n",
    "<p>The process of creating a class is called <i>Instantiating</i>. Each time you create a variable of that type of class, it is referred to as an <i>Instance</i> of that class. This is the second step in the process of using a class.</p>"
   ]
  },
  {
   "cell_type": "markdown",
   "metadata": {},
   "source": [
    "##### Creating One Instance"
   ]
  },
  {
   "cell_type": "code",
   "execution_count": 4,
   "metadata": {},
   "outputs": [
    {
     "name": "stdout",
     "output_type": "stream",
     "text": [
      "blue\n"
     ]
    }
   ],
   "source": [
    "ford = Car()\n",
    "\n",
    "print(ford.color)"
   ]
  },
  {
   "cell_type": "markdown",
   "metadata": {},
   "source": [
    "##### Creating Multiple Instances"
   ]
  },
  {
   "cell_type": "code",
   "execution_count": 5,
   "metadata": {},
   "outputs": [
    {
     "name": "stdout",
     "output_type": "stream",
     "text": [
      "<class 'str'>\n"
     ]
    },
    {
     "ename": "AttributeError",
     "evalue": "'Car' object has no attribute 'bumper'",
     "output_type": "error",
     "traceback": [
      "\u001b[1;31m---------------------------------------------------------------------------\u001b[0m",
      "\u001b[1;31mAttributeError\u001b[0m                            Traceback (most recent call last)",
      "\u001b[1;32m<ipython-input-5-588218de20be>\u001b[0m in \u001b[0;36m<module>\u001b[1;34m\u001b[0m\n\u001b[0;32m      4\u001b[0m \u001b[1;33m\u001b[0m\u001b[0m\n\u001b[0;32m      5\u001b[0m \u001b[0mprint\u001b[0m\u001b[1;33m(\u001b[0m\u001b[0mtype\u001b[0m\u001b[1;33m(\u001b[0m\u001b[0mporsche\u001b[0m\u001b[1;33m.\u001b[0m\u001b[0mcolor\u001b[0m\u001b[1;33m)\u001b[0m\u001b[1;33m)\u001b[0m\u001b[1;33m\u001b[0m\u001b[1;33m\u001b[0m\u001b[0m\n\u001b[1;32m----> 6\u001b[1;33m \u001b[0mprint\u001b[0m\u001b[1;33m(\u001b[0m\u001b[0mporsche\u001b[0m\u001b[1;33m.\u001b[0m\u001b[0mbumper\u001b[0m\u001b[1;33m)\u001b[0m\u001b[1;33m\u001b[0m\u001b[1;33m\u001b[0m\u001b[0m\n\u001b[0m",
      "\u001b[1;31mAttributeError\u001b[0m: 'Car' object has no attribute 'bumper'"
     ]
    }
   ],
   "source": [
    "chevy = Car()\n",
    "honda = Car()\n",
    "porsche = Car()\n",
    "\n",
    "print(type(porsche.color))\n",
    "print(porsche.bumper)"
   ]
  },
  {
   "cell_type": "markdown",
   "metadata": {},
   "source": [
    "##### In-Class Exercise #1 - Create a Class 'Car' and Instantiate three different makes of cars"
   ]
  },
  {
   "cell_type": "code",
   "execution_count": null,
   "metadata": {},
   "outputs": [],
   "source": [
    "class Car():\n",
    "    wheels = 4\n",
    "    color = 'white'\n",
    "    doors = 4\n",
    "    \n",
    "toyota = Car()\n",
    "subaru = Car()\n",
    "dodge = Car()\n",
    "\n",
    "print(dodge.wheels)\n",
    "print(toyota.color)\n",
    "print(subaru.doors)"
   ]
  },
  {
   "cell_type": "markdown",
   "metadata": {},
   "source": [
    "## The \\__init\\__() Method <br>\n",
    "<p>This method is used in almost every created class, and called only once upon the creation of the class instance. This method will initialize all variables needed for the object.</p>"
   ]
  },
  {
   "cell_type": "code",
   "execution_count": null,
   "metadata": {},
   "outputs": [],
   "source": [
    "class Car():\n",
    "    engine = '4.7L' # constant-attribute\n",
    "    \n",
    "    def __init__(self,wheels,color):\n",
    "        self.wheels = wheels\n",
    "        self.color = color\n",
    "\n",
    "ford = Car(4, 'red')\n",
    "chevy = Car(6, 'black')\n",
    "\n",
    "print(chevy.wheels)\n",
    "print(ford.wheels)\n",
    "print(chevy.color)\n",
    "print(ford.color)"
   ]
  },
  {
   "cell_type": "markdown",
   "metadata": {},
   "source": [
    "##### The 'self' Attribute <br>\n",
    "<p>This attribute is required to keep track of specific instance's attributes. Without the self attribute, the program would not know how to reference or keep track of an instance's attributes.</p>"
   ]
  },
  {
   "cell_type": "code",
   "execution_count": null,
   "metadata": {},
   "outputs": [],
   "source": [
    "# see above"
   ]
  },
  {
   "cell_type": "markdown",
   "metadata": {},
   "source": [
    "## Class Attributes <br>\n",
    "<p>While variables are inside of a class, they are referred to as attributes and not variables. When someone says 'attribute' you know they're speaking about a class. Attributes can be initialized through the init method, or outside of it.</p>"
   ]
  },
  {
   "cell_type": "markdown",
   "metadata": {},
   "source": [
    "##### Initializing Attributes"
   ]
  },
  {
   "cell_type": "code",
   "execution_count": null,
   "metadata": {},
   "outputs": [],
   "source": [
    "# see above\n",
    "\n",
    "class Toy():\n",
    "    kind = \"car\" # Constant - DOES NOT CHANGE FREQUENTLY\n",
    "    \n",
    "    def __init__(self,rooftop,horn,wheels):\n",
    "        self.rooftop = rooftop\n",
    "        self.horn = horn\n",
    "        self.wheels = wheels\n",
    "        \n",
    "tanka_truck = Toy(1,1,4) # 1 rooftop, 1 horn, 4 wheels\n",
    "hotwheels_car = Toy(2, 3, 8) # 2 rooftops, 3 horns, 8 wheels"
   ]
  },
  {
   "cell_type": "markdown",
   "metadata": {},
   "source": [
    "##### Accessing Class Attributes"
   ]
  },
  {
   "cell_type": "code",
   "execution_count": null,
   "metadata": {
    "scrolled": true
   },
   "outputs": [],
   "source": [
    "# See Above\n",
    "tanka_truck.rooftop"
   ]
  },
  {
   "cell_type": "markdown",
   "metadata": {},
   "source": [
    "##### Setting Defaults for Attributes"
   ]
  },
  {
   "cell_type": "code",
   "execution_count": null,
   "metadata": {},
   "outputs": [],
   "source": [
    "class Car():\n",
    "    engine = '4.7L'\n",
    "    \n",
    "    def __init__(self,wheels):\n",
    "        self.wheels = wheels\n",
    "        self.color = 'Blue' # Default Attribute\n",
    "        \n",
    "honda = Car(4)\n",
    "jeep = Car(8)"
   ]
  },
  {
   "cell_type": "markdown",
   "metadata": {},
   "source": [
    "##### Changing Class Attributes <br>\n",
    "<p>Keep in mind there are global class attributes and then there are attributes only available to each class instance which won't effect other classes.</p>"
   ]
  },
  {
   "cell_type": "code",
   "execution_count": null,
   "metadata": {},
   "outputs": [],
   "source": [
    "# Changing the Default Attribute for this example\n",
    "print(f'BEFORE CHANGE: {jeep.color}')"
   ]
  },
  {
   "cell_type": "code",
   "execution_count": null,
   "metadata": {},
   "outputs": [],
   "source": [
    "jeep.color = 'White'\n",
    "\n",
    "print(f'\\n AFTER CHANGE: {jeep.color}')"
   ]
  },
  {
   "cell_type": "markdown",
   "metadata": {},
   "source": [
    "##### In-Class Exercise #2 - Add a doors and seats attribute to your 'Car' class then print out two different instances with different doors and seats"
   ]
  },
  {
   "cell_type": "code",
   "execution_count": null,
   "metadata": {},
   "outputs": [],
   "source": [
    "class Car():\n",
    "    color = 'Red'\n",
    "    \n",
    "    def __init__(self,doors,seats):\n",
    "        self.doors = doors\n",
    "        self.seats = seats\n",
    "        \n",
    "chevy = Car(2, 3)\n",
    "honda = Car(4, 5)\n",
    "\n",
    "print(f\"A Chevy has {chevy.doors} doors and {chevy.seats} seats.\")\n",
    "print(f\"A Honda has {honda.doors} doors and {honda.seats} seats.\")"
   ]
  },
  {
   "cell_type": "markdown",
   "metadata": {},
   "source": [
    "## Class Methods <br>\n",
    "<p>While inside of a class, functions are referred to as 'methods'. If you hear someone mention methods, they're speaking about classes. Methods are essentially functions, but only callable on the instances of a class.</p>"
   ]
  },
  {
   "cell_type": "markdown",
   "metadata": {},
   "source": [
    "##### Creating"
   ]
  },
  {
   "cell_type": "code",
   "execution_count": 9,
   "metadata": {},
   "outputs": [],
   "source": [
    "class ShoppingBag():\n",
    "    \"\"\"\n",
    "        The ShoppingBag Class will have handles, capacity and items\n",
    "        to place inside.\n",
    "        \n",
    "        Attributes for the class:\n",
    "        - handles: expected to be an integer\n",
    "        - capacity: expected to be a string OR an integer\n",
    "        - items: expected to be a list\n",
    "    \"\"\"\n",
    "    \n",
    "    def __init__(self,handles,capacity,items):\n",
    "        self.handles = handles\n",
    "        self.capacity = capacity\n",
    "        self.items = items\n",
    "        \n",
    "    # Method that shows the ShoppingBag items\n",
    "    def showShoppingBag(self):\n",
    "        print(\"You've got items!!\")\n",
    "        for item in self.items:\n",
    "            print(item)\n",
    "                \n",
    "    # Show capacity of ShoppingBag\n",
    "    def showCapacity(self):\n",
    "        print(f\"Your capacity is: {self.capacity}\")\n",
    "            \n",
    "    # Add Item(s) to the items list for the ShoppingBag\n",
    "    def addtoShoppingBag(self):\n",
    "        products = input(\"What would you like to add? \")\n",
    "        self.items.append(products)\n",
    "            \n",
    "    # Change the capacity of the ShoppingBag (dynamically)\n",
    "    def changeBagCapacity(self, capacity):\n",
    "        self.capacity = capacity\n",
    "        \n",
    "    # Increase Capacity of the ShoppingBag by 10 -- default\n",
    "    def increaseCapacity(self, changed_capacity = 10):\n",
    "        if self.capacity == isinstance(self.capacity, str):\n",
    "            print(\"We can't do that :(\")\n",
    "        else:\n",
    "            self.capacity += changed_capacity"
   ]
  },
  {
   "cell_type": "markdown",
   "metadata": {},
   "source": [
    "##### Calling"
   ]
  },
  {
   "cell_type": "code",
   "execution_count": 10,
   "metadata": {},
   "outputs": [
    {
     "name": "stdout",
     "output_type": "stream",
     "text": [
      "What would you like to do? Add/Show/or Quit add\n",
      "What would you like to add? milk\n",
      "What would you like to do? Add/Show/or Quit add\n",
      "What would you like to add? eggs\n",
      "What would you like to do? Add/Show/or Quit add\n",
      "What would you like to add? bread\n",
      "What would you like to do? Add/Show/or Quit show\n",
      "You've got items!!\n",
      "milk\n",
      "eggs\n",
      "bread\n",
      "What would you like to do? Add/Show/or Quit add\n",
      "What would you like to add? coke\n",
      "What would you like to do? Add/Show/or Quit quit\n",
      "You've got items!!\n",
      "milk\n",
      "eggs\n",
      "bread\n",
      "coke\n",
      "Thanks for shopping\n"
     ]
    }
   ],
   "source": [
    "# See Above\n",
    "# Created an of the ShoppingBag Class\n",
    "\n",
    "wholeFoods_bag = ShoppingBag(2,10,[])\n",
    "\n",
    "# Create Function to run the ShoppingBag(wholeFoods_bag) methods\n",
    "\n",
    "def run():\n",
    "    while True:\n",
    "        response = input(\"What would you like to do? Add/Show/or Quit \")\n",
    "        \n",
    "        if response.lower() == 'quit':\n",
    "            wholeFoods_bag.showShoppingBag()\n",
    "            print(\"Thanks for shopping\")\n",
    "            break\n",
    "        \n",
    "        elif response.lower() == 'add':\n",
    "            wholeFoods_bag.addtoShoppingBag()\n",
    "        \n",
    "        elif response.lower() == 'show':\n",
    "            wholeFoods_bag.showShoppingBag()\n",
    "            \n",
    "run()"
   ]
  },
  {
   "cell_type": "markdown",
   "metadata": {},
   "source": [
    "##### Modifying an Attribute's Value Through a Method"
   ]
  },
  {
   "cell_type": "code",
   "execution_count": 13,
   "metadata": {},
   "outputs": [
    {
     "name": "stdout",
     "output_type": "stream",
     "text": [
      "Your capacity is: 50\n",
      "Capacity AFTER the change...\n",
      "Your capacity is: 50\n"
     ]
    }
   ],
   "source": [
    "# Show Capacity\n",
    "wholeFoods_bag.showCapacity()\n",
    "print(\"Capacity AFTER the change...\")\n",
    "\n",
    "wholeFoods_bag.changeBagCapacity(50)\n",
    "wholeFoods_bag.showCapacity()"
   ]
  },
  {
   "cell_type": "markdown",
   "metadata": {},
   "source": [
    "##### Incrementing an Attribute's Value Through a Method"
   ]
  },
  {
   "cell_type": "code",
   "execution_count": 14,
   "metadata": {},
   "outputs": [
    {
     "name": "stdout",
     "output_type": "stream",
     "text": [
      "Your capacity is: 50\n",
      "After Increase\n",
      "Your capacity is: 60\n"
     ]
    }
   ],
   "source": [
    "wholeFoods_bag.showCapacity()\n",
    "print(\"After Increase\")\n",
    "wholeFoods_bag.increaseCapacity()\n",
    "wholeFoods_bag.showCapacity()"
   ]
  },
  {
   "cell_type": "markdown",
   "metadata": {},
   "source": [
    "##### In-Class Exercise #3 - Add a method that takes in three parameters of year, doors and seats and prints out a formatted print statement with make, model, year, seats, and doors"
   ]
  },
  {
   "cell_type": "code",
   "execution_count": 18,
   "metadata": {},
   "outputs": [
    {
     "name": "stdout",
     "output_type": "stream",
     "text": [
      "This car is from 2009 and is a Ford Escape and has 4 doors and 5 seats.\n"
     ]
    }
   ],
   "source": [
    "# Create class with 2 paramters inside of the __init__ which are make and model\n",
    "\n",
    "# Inside of the Car class create a method that has 4 parameter in total (self,year,door,seats)\n",
    "\n",
    "# Output: This car is from 2019 and is a Ford Expolorer and has 4 doors and 5 seats\n",
    "\n",
    "class Car():\n",
    "    def __init__(self,make,model):\n",
    "        self.make = make\n",
    "        self.model = model\n",
    "        \n",
    "    def moreCar(self,year,door,seats):\n",
    "        print(f\"This car is from {year} and is a {self.make} {self.model} and has {door} doors and {seats} seats.\")\n",
    "        \n",
    "mycar = Car('Ford', 'Escape')\n",
    "mycar.moreCar(2009,4,5)"
   ]
  },
  {
   "cell_type": "markdown",
   "metadata": {},
   "source": [
    "## Inheritance <br>\n",
    "<p>You can create a child-parent relationship between two classes by using inheritance. What this allows you to do is have overriding methods, but also inherit traits from the parent class. Think of it as an actual parent and child, the child will inherit the parent's genes, as will the classes in OOP</p>"
   ]
  },
  {
   "cell_type": "markdown",
   "metadata": {},
   "source": [
    "##### Syntax for Inheriting from a Parent Class"
   ]
  },
  {
   "cell_type": "code",
   "execution_count": 21,
   "metadata": {},
   "outputs": [
    {
     "name": "stdout",
     "output_type": "stream",
     "text": [
      "9.8\n",
      "Bark\n",
      "Make some generic sound\n",
      "None\n"
     ]
    }
   ],
   "source": [
    "# Creation of our Parent Class -- Animal\n",
    "class Animal():\n",
    "    acceleration = 9.8\n",
    "    \n",
    "    def __init__(self,name,species,legs=4):\n",
    "        self.name = name\n",
    "        self.species = species\n",
    "        self.legs = legs\n",
    "    \n",
    "    # Generic Parent(Animal) Method -- NO OVERRIDE YET\n",
    "    def makeSound(self):\n",
    "        print(\"Make some generic sound\")\n",
    "\n",
    "# Creation of our Child Class -- Dog        \n",
    "class Dog(Animal):\n",
    "    speed = 15\n",
    "    \n",
    "    def printInfo(self):\n",
    "        print(f\"The dog has {self.speed}mph in speed and {self.acceleration} in acceleration.\")\n",
    "        \n",
    "# Creation of our Grand-Child Class -- Mut\n",
    "class Mut(Dog):\n",
    "    color = 'black, brown, and white'\n",
    "    \n",
    "    # Overriding of the ANIMAL Class __init__ method (by way of using the Dog class)\n",
    "    def __init__(self, name, species, eye_color, legs = 4):\n",
    "        Dog.__init__(self,name,species,legs) \n",
    "        self.eye_color = eye_color\n",
    "        \n",
    "    # Overide the makeSound method (again coming from the ANIMAL class)\n",
    "    def makeSound(self):\n",
    "        noise = 'Bark'\n",
    "        return noise\n",
    "    \n",
    "lassie = Dog('Lassie', 'Dog')\n",
    "basic_animal = Animal('Generic Animal Name', 'Generic Species')\n",
    "buddy = Mut('Buddy','Mut','green')\n",
    "\n",
    "print(buddy.acceleration)\n",
    "print(buddy.makeSound())\n",
    "print(basic_animal.makeSound())"
   ]
  },
  {
   "cell_type": "markdown",
   "metadata": {},
   "source": [
    "##### The \\__init\\__() Method for a Child Class - super()"
   ]
  },
  {
   "cell_type": "code",
   "execution_count": 24,
   "metadata": {
    "scrolled": true
   },
   "outputs": [
    {
     "name": "stdout",
     "output_type": "stream",
     "text": [
      "9.8\n",
      "Bark\n",
      "Make some generic sound\n",
      "None\n",
      "Help on class Mut in module __main__:\n",
      "\n",
      "class Mut(Dog)\n",
      " |  Mut(name, species, eye_color, legs=4)\n",
      " |  \n",
      " |  Method resolution order:\n",
      " |      Mut\n",
      " |      Dog\n",
      " |      Animal\n",
      " |      builtins.object\n",
      " |  \n",
      " |  Methods defined here:\n",
      " |  \n",
      " |  __init__(self, name, species, eye_color, legs=4)\n",
      " |      Initialize self.  See help(type(self)) for accurate signature.\n",
      " |  \n",
      " |  makeSound(self)\n",
      " |      # Overide the makeSound method (again coming from the ANIMAL class)\n",
      " |  \n",
      " |  ----------------------------------------------------------------------\n",
      " |  Data and other attributes defined here:\n",
      " |  \n",
      " |  color = 'black, brown, and white'\n",
      " |  \n",
      " |  ----------------------------------------------------------------------\n",
      " |  Methods inherited from Dog:\n",
      " |  \n",
      " |  printInfo(self)\n",
      " |  \n",
      " |  ----------------------------------------------------------------------\n",
      " |  Data and other attributes inherited from Dog:\n",
      " |  \n",
      " |  speed = 15\n",
      " |  \n",
      " |  ----------------------------------------------------------------------\n",
      " |  Data descriptors inherited from Animal:\n",
      " |  \n",
      " |  __dict__\n",
      " |      dictionary for instance variables (if defined)\n",
      " |  \n",
      " |  __weakref__\n",
      " |      list of weak references to the object (if defined)\n",
      " |  \n",
      " |  ----------------------------------------------------------------------\n",
      " |  Data and other attributes inherited from Animal:\n",
      " |  \n",
      " |  acceleration = 9.8\n",
      "\n"
     ]
    }
   ],
   "source": [
    "class Mut(Dog):\n",
    "    color = 'black, brown, and white'\n",
    "    \n",
    "    # Overriding of the ANIMAL Class __init__ method (by way of using the Dog class)\n",
    "    def __init__(self, name, species, eye_color, legs = 4):\n",
    "        super().__init__(name,species,legs) \n",
    "        self.eye_color = eye_color\n",
    "        \n",
    "    # Overide the makeSound method (again coming from the ANIMAL class)\n",
    "    def makeSound(self):\n",
    "        noise = 'Bark'\n",
    "        return noise\n",
    "    \n",
    "lassie = Dog('Lassie', 'Dog')\n",
    "basic_animal = Animal('Generic Animal Name', 'Generic Species')\n",
    "buddy = Mut('Buddy','Mut','green')\n",
    "\n",
    "print(buddy.acceleration)\n",
    "print(buddy.makeSound())\n",
    "print(basic_animal.makeSound())\n",
    "\n",
    "help(Mut)"
   ]
  },
  {
   "cell_type": "markdown",
   "metadata": {},
   "source": [
    "##### Defining Attributes and Methods for the Child Class"
   ]
  },
  {
   "cell_type": "code",
   "execution_count": null,
   "metadata": {},
   "outputs": [],
   "source": [
    "# See Above"
   ]
  },
  {
   "cell_type": "markdown",
   "metadata": {},
   "source": [
    "##### Method Overriding"
   ]
  },
  {
   "cell_type": "code",
   "execution_count": null,
   "metadata": {},
   "outputs": [],
   "source": [
    "# See Above"
   ]
  },
  {
   "cell_type": "markdown",
   "metadata": {},
   "source": [
    "## Classes as Attributes <br>\n",
    "<p>Classes can also be used as attributes within another class. This is useful in situations where you need to keep variables locally stored, instead of globally stored.</p>"
   ]
  },
  {
   "cell_type": "code",
   "execution_count": 27,
   "metadata": {},
   "outputs": [
    {
     "name": "stdout",
     "output_type": "stream",
     "text": [
      "20\n"
     ]
    },
    {
     "data": {
      "text/plain": [
       "' 2021 Tesla Model X 20'"
      ]
     },
     "execution_count": 27,
     "metadata": {},
     "output_type": "execute_result"
    }
   ],
   "source": [
    "class Battery():\n",
    "    volts = 7.8\n",
    "    \n",
    "    def __init__(self, cells):\n",
    "        self.cells = cells\n",
    "        \n",
    "class Car():\n",
    "    def __init__(self, year, make, model, battery):\n",
    "        self.year = year\n",
    "        self.make = make\n",
    "        self.model = model\n",
    "        self.battery = battery\n",
    "        \n",
    "    def printInfo(self):\n",
    "        return f' {self.year} {self.make} {self.model} {self.battery.cells}'\n",
    "    \n",
    "battery = Battery(20)\n",
    "\n",
    "tesla = Car(2021, 'Tesla', 'Model X', battery)\n",
    "\n",
    "print(tesla.battery.cells)\n",
    "\n",
    "tesla.printInfo()"
   ]
  },
  {
   "cell_type": "markdown",
   "metadata": {},
   "source": [
    "# Exercises"
   ]
  },
  {
   "cell_type": "markdown",
   "metadata": {},
   "source": [
    "### Exercise 1 - Turn the shopping cart program from yesterday into an object-oriented program\n",
    "\n",
    "The comments in the cell below are there as a guide for thinking about the problem. However, if you feel a different way is best for you and your own thought process, please do what feels best for you by all means."
   ]
  },
  {
   "cell_type": "code",
   "execution_count": null,
   "metadata": {},
   "outputs": [
    {
     "name": "stdout",
     "output_type": "stream",
     "text": [
      "Would you like to add a food, drink, or toy to your cart? toy\n",
      "What would you like to play with today? milk\n"
     ]
    }
   ],
   "source": [
    "# Create a class called cart that retains items and has methods to add, remove, and show\n",
    "\n",
    "from IPython.display import clear_output\n",
    "\n",
    "\n",
    "class Cart():\n",
    "    def __init__(self,foods,drinks,toys):\n",
    "        self.foods = foods\n",
    "        self.drinks = drinks\n",
    "        self.toys = toys\n",
    "        \n",
    "    def showCart(self):\n",
    "        clear_output()\n",
    "        print(f\"You have the following foods in your cart:\")\n",
    "        for food in self.foods:\n",
    "            print(food)\n",
    "        print(f\"You also have the following drinks in your cart:\")\n",
    "        for drink in self.drinks:\n",
    "            print(drink)\n",
    "        print(f\"Finally, your cart also currently contains the following toys:\")\n",
    "        for toy in self.toys:\n",
    "            print(toy)\n",
    "            \n",
    "    def addtoCart(self):\n",
    "        clear_output()\n",
    "        whichone = input(\"Would you like to add a food, drink, or toy to your cart? \")\n",
    "        if whichone.lower() == 'food':\n",
    "            grocery = input(\"What food will you be gobbling down today? \")\n",
    "            self.foods.append(grocery)\n",
    "        elif whichone.lower() == 'drink':\n",
    "            beverage = input(\"What drink will be parching your thirst? \")\n",
    "            self.drinks.append(beverage)\n",
    "        elif whichone.lower() == 'toy':\n",
    "            plaything = input(\"What would you like to play with today? \")\n",
    "            self.toys.append(plaything)\n",
    "        else:\n",
    "            print(f\"Try reading the instructions again.\")\n",
    "    \n",
    "    def putBack(self):\n",
    "        clear_output()\n",
    "        whythat = input(\"Are you putting back a food, drink, or toy? \")\n",
    "        if whythat.lower() == 'food':\n",
    "            print(f\"Here are the current foods you have: \")\n",
    "            for food in self.foods:\n",
    "                print(food)\n",
    "            snack = input(\"What will you not get to eat? \")\n",
    "            if snack not in self.foods:\n",
    "                print(f\"Use your eyeballs and read!\")\n",
    "            else:\n",
    "                self.foods.remove(snack)\n",
    "        if whythat.lower() == 'drink':\n",
    "            print(f\"Here are the current drinks you have: \")\n",
    "            for drink in self.drinks:\n",
    "                print(drink)\n",
    "            bev = input(\"What drink has to go back? \")\n",
    "            if bev not in self.drinks:\n",
    "                print(f\"Use your eyeballs and read!\")\n",
    "            else:\n",
    "                self.drinks.remove(bev)\n",
    "        if whythat.lower() == 'toy':\n",
    "            print(f\"Here are the current toys you have: \")\n",
    "            for toy in self.toys:\n",
    "                print(toy)\n",
    "            joy = input(\"About time. You're an adult. What toy is going back on the self? \")\n",
    "            if joy not in self.toys:\n",
    "                print(f\"Use your eyeballs and read!\")\n",
    "            else:\n",
    "                self.toys.remove(joy)\n",
    "        else:\n",
    "            print(f\"Try reading the instructions again.\")\n",
    "            \n",
    "shopping_spree = Cart([],[],[])\n",
    "\n",
    "def run2():\n",
    "    print(f\"Buy our stuff and give us your money\")\n",
    "    \n",
    "    while True:\n",
    "        response = input(\"What would you like to do? Add/Show/Remove or Checkout? \")\n",
    "        \n",
    "        if response.lower() == 'add':\n",
    "            shopping_spree.addtoCart()\n",
    "        elif response.lower() == 'show':\n",
    "            shopping_spree.showCart()\n",
    "        elif response.lower() == 'remove':\n",
    "            shopping_spree.putBack()\n",
    "        elif response.lower() == 'checkout':\n",
    "            shopping_spree.showCart()\n",
    "            return f\"You owe us some money but have a nice day!\"\n",
    "        else:\n",
    "            print(f\"Try reading the instructions again.\")\n",
    "            \n",
    "            \n",
    "        \n",
    "run2()"
   ]
  },
  {
   "cell_type": "markdown",
   "metadata": {},
   "source": [
    "### Exercise 2 - Write a Python class which has two methods get_String and print_String. get_String accept a string from the user and print_String print the string in upper case"
   ]
  },
  {
   "cell_type": "code",
   "execution_count": 71,
   "metadata": {},
   "outputs": [
    {
     "name": "stdout",
     "output_type": "stream",
     "text": [
      "Enter a word or a statement: hey\n"
     ]
    },
    {
     "data": {
      "text/plain": [
       "'HEY'"
      ]
     },
     "execution_count": 71,
     "metadata": {},
     "output_type": "execute_result"
    }
   ],
   "source": [
    "class Str_method():\n",
    "    def __init__(self):\n",
    "        self.first_string = \"\"\n",
    "    \n",
    "    def get_String(self):\n",
    "        self.first_string = input(\"Enter a word or a statement: \")\n",
    "        return self.first_string\n",
    "    \n",
    "    def print_String(self):\n",
    "        return (self.first_string.upper())\n",
    "        \n",
    "hopethisworks = Str_method()\n",
    "\n",
    "hopethisworks.get_String()\n",
    "hopethisworks.print_String()"
   ]
  },
  {
   "cell_type": "code",
   "execution_count": null,
   "metadata": {},
   "outputs": [],
   "source": []
  },
  {
   "cell_type": "code",
   "execution_count": null,
   "metadata": {},
   "outputs": [],
   "source": []
  }
 ],
 "metadata": {
  "kernelspec": {
   "display_name": "Python 3",
   "language": "python",
   "name": "python3"
  },
  "language_info": {
   "codemirror_mode": {
    "name": "ipython",
    "version": 3
   },
   "file_extension": ".py",
   "mimetype": "text/x-python",
   "name": "python",
   "nbconvert_exporter": "python",
   "pygments_lexer": "ipython3",
   "version": "3.8.5"
  }
 },
 "nbformat": 4,
 "nbformat_minor": 2
}
